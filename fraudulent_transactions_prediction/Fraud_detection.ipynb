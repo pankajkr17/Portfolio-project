{
 "cells": [
  {
   "cell_type": "code",
   "execution_count": 1,
   "id": "f1a7b297",
   "metadata": {},
   "outputs": [],
   "source": [
    "import pandas as pd\n",
    "import numpy as np\n",
    "import seaborn as sns\n",
    "import matplotlib.pyplot as plt\n",
    "%matplotlib inline\n",
    "import matplotlib\n",
    "matplotlib.rcParams['figure.figsize']=(15,7)"
   ]
  },
  {
   "cell_type": "code",
   "execution_count": 2,
   "id": "6cbdda12",
   "metadata": {},
   "outputs": [],
   "source": [
    "df = pd.read_csv('Fraud.csv')"
   ]
  },
  {
   "cell_type": "markdown",
   "id": "c7ec8db4",
   "metadata": {},
   "source": [
    "## Exploratory Data Analysis "
   ]
  },
  {
   "cell_type": "code",
   "execution_count": 3,
   "id": "1b88b592",
   "metadata": {},
   "outputs": [
    {
     "data": {
      "text/plain": [
       "(6362620, 11)"
      ]
     },
     "execution_count": 3,
     "metadata": {},
     "output_type": "execute_result"
    }
   ],
   "source": [
    "df.shape"
   ]
  },
  {
   "cell_type": "code",
   "execution_count": 4,
   "id": "806ed445",
   "metadata": {},
   "outputs": [
    {
     "data": {
      "text/html": [
       "<div>\n",
       "<style scoped>\n",
       "    .dataframe tbody tr th:only-of-type {\n",
       "        vertical-align: middle;\n",
       "    }\n",
       "\n",
       "    .dataframe tbody tr th {\n",
       "        vertical-align: top;\n",
       "    }\n",
       "\n",
       "    .dataframe thead th {\n",
       "        text-align: right;\n",
       "    }\n",
       "</style>\n",
       "<table border=\"1\" class=\"dataframe\">\n",
       "  <thead>\n",
       "    <tr style=\"text-align: right;\">\n",
       "      <th></th>\n",
       "      <th>step</th>\n",
       "      <th>type</th>\n",
       "      <th>amount</th>\n",
       "      <th>nameOrig</th>\n",
       "      <th>oldbalanceOrg</th>\n",
       "      <th>newbalanceOrig</th>\n",
       "      <th>nameDest</th>\n",
       "      <th>oldbalanceDest</th>\n",
       "      <th>newbalanceDest</th>\n",
       "      <th>isFraud</th>\n",
       "      <th>isFlaggedFraud</th>\n",
       "    </tr>\n",
       "  </thead>\n",
       "  <tbody>\n",
       "    <tr>\n",
       "      <th>0</th>\n",
       "      <td>1</td>\n",
       "      <td>PAYMENT</td>\n",
       "      <td>9839.64</td>\n",
       "      <td>C1231006815</td>\n",
       "      <td>170136.00</td>\n",
       "      <td>160296.36</td>\n",
       "      <td>M1979787155</td>\n",
       "      <td>0.0</td>\n",
       "      <td>0.00</td>\n",
       "      <td>0</td>\n",
       "      <td>0</td>\n",
       "    </tr>\n",
       "    <tr>\n",
       "      <th>1</th>\n",
       "      <td>1</td>\n",
       "      <td>PAYMENT</td>\n",
       "      <td>1864.28</td>\n",
       "      <td>C1666544295</td>\n",
       "      <td>21249.00</td>\n",
       "      <td>19384.72</td>\n",
       "      <td>M2044282225</td>\n",
       "      <td>0.0</td>\n",
       "      <td>0.00</td>\n",
       "      <td>0</td>\n",
       "      <td>0</td>\n",
       "    </tr>\n",
       "    <tr>\n",
       "      <th>2</th>\n",
       "      <td>1</td>\n",
       "      <td>TRANSFER</td>\n",
       "      <td>181.00</td>\n",
       "      <td>C1305486145</td>\n",
       "      <td>181.00</td>\n",
       "      <td>0.00</td>\n",
       "      <td>C553264065</td>\n",
       "      <td>0.0</td>\n",
       "      <td>0.00</td>\n",
       "      <td>1</td>\n",
       "      <td>0</td>\n",
       "    </tr>\n",
       "    <tr>\n",
       "      <th>3</th>\n",
       "      <td>1</td>\n",
       "      <td>CASH_OUT</td>\n",
       "      <td>181.00</td>\n",
       "      <td>C840083671</td>\n",
       "      <td>181.00</td>\n",
       "      <td>0.00</td>\n",
       "      <td>C38997010</td>\n",
       "      <td>21182.0</td>\n",
       "      <td>0.00</td>\n",
       "      <td>1</td>\n",
       "      <td>0</td>\n",
       "    </tr>\n",
       "    <tr>\n",
       "      <th>4</th>\n",
       "      <td>1</td>\n",
       "      <td>PAYMENT</td>\n",
       "      <td>11668.14</td>\n",
       "      <td>C2048537720</td>\n",
       "      <td>41554.00</td>\n",
       "      <td>29885.86</td>\n",
       "      <td>M1230701703</td>\n",
       "      <td>0.0</td>\n",
       "      <td>0.00</td>\n",
       "      <td>0</td>\n",
       "      <td>0</td>\n",
       "    </tr>\n",
       "    <tr>\n",
       "      <th>5</th>\n",
       "      <td>1</td>\n",
       "      <td>PAYMENT</td>\n",
       "      <td>7817.71</td>\n",
       "      <td>C90045638</td>\n",
       "      <td>53860.00</td>\n",
       "      <td>46042.29</td>\n",
       "      <td>M573487274</td>\n",
       "      <td>0.0</td>\n",
       "      <td>0.00</td>\n",
       "      <td>0</td>\n",
       "      <td>0</td>\n",
       "    </tr>\n",
       "    <tr>\n",
       "      <th>6</th>\n",
       "      <td>1</td>\n",
       "      <td>PAYMENT</td>\n",
       "      <td>7107.77</td>\n",
       "      <td>C154988899</td>\n",
       "      <td>183195.00</td>\n",
       "      <td>176087.23</td>\n",
       "      <td>M408069119</td>\n",
       "      <td>0.0</td>\n",
       "      <td>0.00</td>\n",
       "      <td>0</td>\n",
       "      <td>0</td>\n",
       "    </tr>\n",
       "    <tr>\n",
       "      <th>7</th>\n",
       "      <td>1</td>\n",
       "      <td>PAYMENT</td>\n",
       "      <td>7861.64</td>\n",
       "      <td>C1912850431</td>\n",
       "      <td>176087.23</td>\n",
       "      <td>168225.59</td>\n",
       "      <td>M633326333</td>\n",
       "      <td>0.0</td>\n",
       "      <td>0.00</td>\n",
       "      <td>0</td>\n",
       "      <td>0</td>\n",
       "    </tr>\n",
       "    <tr>\n",
       "      <th>8</th>\n",
       "      <td>1</td>\n",
       "      <td>PAYMENT</td>\n",
       "      <td>4024.36</td>\n",
       "      <td>C1265012928</td>\n",
       "      <td>2671.00</td>\n",
       "      <td>0.00</td>\n",
       "      <td>M1176932104</td>\n",
       "      <td>0.0</td>\n",
       "      <td>0.00</td>\n",
       "      <td>0</td>\n",
       "      <td>0</td>\n",
       "    </tr>\n",
       "    <tr>\n",
       "      <th>9</th>\n",
       "      <td>1</td>\n",
       "      <td>DEBIT</td>\n",
       "      <td>5337.77</td>\n",
       "      <td>C712410124</td>\n",
       "      <td>41720.00</td>\n",
       "      <td>36382.23</td>\n",
       "      <td>C195600860</td>\n",
       "      <td>41898.0</td>\n",
       "      <td>40348.79</td>\n",
       "      <td>0</td>\n",
       "      <td>0</td>\n",
       "    </tr>\n",
       "  </tbody>\n",
       "</table>\n",
       "</div>"
      ],
      "text/plain": [
       "   step      type    amount     nameOrig  oldbalanceOrg  newbalanceOrig  \\\n",
       "0     1   PAYMENT   9839.64  C1231006815      170136.00       160296.36   \n",
       "1     1   PAYMENT   1864.28  C1666544295       21249.00        19384.72   \n",
       "2     1  TRANSFER    181.00  C1305486145         181.00            0.00   \n",
       "3     1  CASH_OUT    181.00   C840083671         181.00            0.00   \n",
       "4     1   PAYMENT  11668.14  C2048537720       41554.00        29885.86   \n",
       "5     1   PAYMENT   7817.71    C90045638       53860.00        46042.29   \n",
       "6     1   PAYMENT   7107.77   C154988899      183195.00       176087.23   \n",
       "7     1   PAYMENT   7861.64  C1912850431      176087.23       168225.59   \n",
       "8     1   PAYMENT   4024.36  C1265012928        2671.00            0.00   \n",
       "9     1     DEBIT   5337.77   C712410124       41720.00        36382.23   \n",
       "\n",
       "      nameDest  oldbalanceDest  newbalanceDest  isFraud  isFlaggedFraud  \n",
       "0  M1979787155             0.0            0.00        0               0  \n",
       "1  M2044282225             0.0            0.00        0               0  \n",
       "2   C553264065             0.0            0.00        1               0  \n",
       "3    C38997010         21182.0            0.00        1               0  \n",
       "4  M1230701703             0.0            0.00        0               0  \n",
       "5   M573487274             0.0            0.00        0               0  \n",
       "6   M408069119             0.0            0.00        0               0  \n",
       "7   M633326333             0.0            0.00        0               0  \n",
       "8  M1176932104             0.0            0.00        0               0  \n",
       "9   C195600860         41898.0        40348.79        0               0  "
      ]
     },
     "execution_count": 4,
     "metadata": {},
     "output_type": "execute_result"
    }
   ],
   "source": [
    "df.head(10)"
   ]
  },
  {
   "cell_type": "code",
   "execution_count": 5,
   "id": "897e9897",
   "metadata": {},
   "outputs": [
    {
     "data": {
      "text/html": [
       "<div>\n",
       "<style scoped>\n",
       "    .dataframe tbody tr th:only-of-type {\n",
       "        vertical-align: middle;\n",
       "    }\n",
       "\n",
       "    .dataframe tbody tr th {\n",
       "        vertical-align: top;\n",
       "    }\n",
       "\n",
       "    .dataframe thead th {\n",
       "        text-align: right;\n",
       "    }\n",
       "</style>\n",
       "<table border=\"1\" class=\"dataframe\">\n",
       "  <thead>\n",
       "    <tr style=\"text-align: right;\">\n",
       "      <th></th>\n",
       "      <th>step</th>\n",
       "      <th>type</th>\n",
       "      <th>amount</th>\n",
       "      <th>nameOrig</th>\n",
       "      <th>oldbalanceOrg</th>\n",
       "      <th>newbalanceOrig</th>\n",
       "      <th>nameDest</th>\n",
       "      <th>oldbalanceDest</th>\n",
       "      <th>newbalanceDest</th>\n",
       "      <th>isFraud</th>\n",
       "      <th>isFlaggedFraud</th>\n",
       "    </tr>\n",
       "  </thead>\n",
       "  <tbody>\n",
       "    <tr>\n",
       "      <th>0</th>\n",
       "      <td>1</td>\n",
       "      <td>PAYMENT</td>\n",
       "      <td>9839.64</td>\n",
       "      <td>C1231006815</td>\n",
       "      <td>170136.00</td>\n",
       "      <td>160296.36</td>\n",
       "      <td>M1979787155</td>\n",
       "      <td>0.00</td>\n",
       "      <td>0.00</td>\n",
       "      <td>0</td>\n",
       "      <td>0</td>\n",
       "    </tr>\n",
       "    <tr>\n",
       "      <th>1</th>\n",
       "      <td>1</td>\n",
       "      <td>PAYMENT</td>\n",
       "      <td>1864.28</td>\n",
       "      <td>C1666544295</td>\n",
       "      <td>21249.00</td>\n",
       "      <td>19384.72</td>\n",
       "      <td>M2044282225</td>\n",
       "      <td>0.00</td>\n",
       "      <td>0.00</td>\n",
       "      <td>0</td>\n",
       "      <td>0</td>\n",
       "    </tr>\n",
       "    <tr>\n",
       "      <th>2</th>\n",
       "      <td>1</td>\n",
       "      <td>TRANSFER</td>\n",
       "      <td>181.00</td>\n",
       "      <td>C1305486145</td>\n",
       "      <td>181.00</td>\n",
       "      <td>0.00</td>\n",
       "      <td>C553264065</td>\n",
       "      <td>0.00</td>\n",
       "      <td>0.00</td>\n",
       "      <td>1</td>\n",
       "      <td>0</td>\n",
       "    </tr>\n",
       "    <tr>\n",
       "      <th>3</th>\n",
       "      <td>1</td>\n",
       "      <td>CASH_OUT</td>\n",
       "      <td>181.00</td>\n",
       "      <td>C840083671</td>\n",
       "      <td>181.00</td>\n",
       "      <td>0.00</td>\n",
       "      <td>C38997010</td>\n",
       "      <td>21182.00</td>\n",
       "      <td>0.00</td>\n",
       "      <td>1</td>\n",
       "      <td>0</td>\n",
       "    </tr>\n",
       "    <tr>\n",
       "      <th>4</th>\n",
       "      <td>1</td>\n",
       "      <td>PAYMENT</td>\n",
       "      <td>11668.14</td>\n",
       "      <td>C2048537720</td>\n",
       "      <td>41554.00</td>\n",
       "      <td>29885.86</td>\n",
       "      <td>M1230701703</td>\n",
       "      <td>0.00</td>\n",
       "      <td>0.00</td>\n",
       "      <td>0</td>\n",
       "      <td>0</td>\n",
       "    </tr>\n",
       "    <tr>\n",
       "      <th>...</th>\n",
       "      <td>...</td>\n",
       "      <td>...</td>\n",
       "      <td>...</td>\n",
       "      <td>...</td>\n",
       "      <td>...</td>\n",
       "      <td>...</td>\n",
       "      <td>...</td>\n",
       "      <td>...</td>\n",
       "      <td>...</td>\n",
       "      <td>...</td>\n",
       "      <td>...</td>\n",
       "    </tr>\n",
       "    <tr>\n",
       "      <th>6362615</th>\n",
       "      <td>743</td>\n",
       "      <td>CASH_OUT</td>\n",
       "      <td>339682.13</td>\n",
       "      <td>C786484425</td>\n",
       "      <td>339682.13</td>\n",
       "      <td>0.00</td>\n",
       "      <td>C776919290</td>\n",
       "      <td>0.00</td>\n",
       "      <td>339682.13</td>\n",
       "      <td>1</td>\n",
       "      <td>0</td>\n",
       "    </tr>\n",
       "    <tr>\n",
       "      <th>6362616</th>\n",
       "      <td>743</td>\n",
       "      <td>TRANSFER</td>\n",
       "      <td>6311409.28</td>\n",
       "      <td>C1529008245</td>\n",
       "      <td>6311409.28</td>\n",
       "      <td>0.00</td>\n",
       "      <td>C1881841831</td>\n",
       "      <td>0.00</td>\n",
       "      <td>0.00</td>\n",
       "      <td>1</td>\n",
       "      <td>0</td>\n",
       "    </tr>\n",
       "    <tr>\n",
       "      <th>6362617</th>\n",
       "      <td>743</td>\n",
       "      <td>CASH_OUT</td>\n",
       "      <td>6311409.28</td>\n",
       "      <td>C1162922333</td>\n",
       "      <td>6311409.28</td>\n",
       "      <td>0.00</td>\n",
       "      <td>C1365125890</td>\n",
       "      <td>68488.84</td>\n",
       "      <td>6379898.11</td>\n",
       "      <td>1</td>\n",
       "      <td>0</td>\n",
       "    </tr>\n",
       "    <tr>\n",
       "      <th>6362618</th>\n",
       "      <td>743</td>\n",
       "      <td>TRANSFER</td>\n",
       "      <td>850002.52</td>\n",
       "      <td>C1685995037</td>\n",
       "      <td>850002.52</td>\n",
       "      <td>0.00</td>\n",
       "      <td>C2080388513</td>\n",
       "      <td>0.00</td>\n",
       "      <td>0.00</td>\n",
       "      <td>1</td>\n",
       "      <td>0</td>\n",
       "    </tr>\n",
       "    <tr>\n",
       "      <th>6362619</th>\n",
       "      <td>743</td>\n",
       "      <td>CASH_OUT</td>\n",
       "      <td>850002.52</td>\n",
       "      <td>C1280323807</td>\n",
       "      <td>850002.52</td>\n",
       "      <td>0.00</td>\n",
       "      <td>C873221189</td>\n",
       "      <td>6510099.11</td>\n",
       "      <td>7360101.63</td>\n",
       "      <td>1</td>\n",
       "      <td>0</td>\n",
       "    </tr>\n",
       "  </tbody>\n",
       "</table>\n",
       "<p>6362620 rows × 11 columns</p>\n",
       "</div>"
      ],
      "text/plain": [
       "         step      type      amount     nameOrig  oldbalanceOrg  \\\n",
       "0           1   PAYMENT     9839.64  C1231006815      170136.00   \n",
       "1           1   PAYMENT     1864.28  C1666544295       21249.00   \n",
       "2           1  TRANSFER      181.00  C1305486145         181.00   \n",
       "3           1  CASH_OUT      181.00   C840083671         181.00   \n",
       "4           1   PAYMENT    11668.14  C2048537720       41554.00   \n",
       "...       ...       ...         ...          ...            ...   \n",
       "6362615   743  CASH_OUT   339682.13   C786484425      339682.13   \n",
       "6362616   743  TRANSFER  6311409.28  C1529008245     6311409.28   \n",
       "6362617   743  CASH_OUT  6311409.28  C1162922333     6311409.28   \n",
       "6362618   743  TRANSFER   850002.52  C1685995037      850002.52   \n",
       "6362619   743  CASH_OUT   850002.52  C1280323807      850002.52   \n",
       "\n",
       "         newbalanceOrig     nameDest  oldbalanceDest  newbalanceDest  isFraud  \\\n",
       "0             160296.36  M1979787155            0.00            0.00        0   \n",
       "1              19384.72  M2044282225            0.00            0.00        0   \n",
       "2                  0.00   C553264065            0.00            0.00        1   \n",
       "3                  0.00    C38997010        21182.00            0.00        1   \n",
       "4              29885.86  M1230701703            0.00            0.00        0   \n",
       "...                 ...          ...             ...             ...      ...   \n",
       "6362615            0.00   C776919290            0.00       339682.13        1   \n",
       "6362616            0.00  C1881841831            0.00            0.00        1   \n",
       "6362617            0.00  C1365125890        68488.84      6379898.11        1   \n",
       "6362618            0.00  C2080388513            0.00            0.00        1   \n",
       "6362619            0.00   C873221189      6510099.11      7360101.63        1   \n",
       "\n",
       "         isFlaggedFraud  \n",
       "0                     0  \n",
       "1                     0  \n",
       "2                     0  \n",
       "3                     0  \n",
       "4                     0  \n",
       "...                 ...  \n",
       "6362615               0  \n",
       "6362616               0  \n",
       "6362617               0  \n",
       "6362618               0  \n",
       "6362619               0  \n",
       "\n",
       "[6362620 rows x 11 columns]"
      ]
     },
     "execution_count": 5,
     "metadata": {},
     "output_type": "execute_result"
    }
   ],
   "source": [
    "df"
   ]
  },
  {
   "cell_type": "code",
   "execution_count": 6,
   "id": "828922f3",
   "metadata": {},
   "outputs": [
    {
     "data": {
      "text/plain": [
       "Index(['step', 'type', 'amount', 'nameOrig', 'oldbalanceOrg', 'newbalanceOrig',\n",
       "       'nameDest', 'oldbalanceDest', 'newbalanceDest', 'isFraud',\n",
       "       'isFlaggedFraud'],\n",
       "      dtype='object')"
      ]
     },
     "execution_count": 6,
     "metadata": {},
     "output_type": "execute_result"
    }
   ],
   "source": [
    "df.columns"
   ]
  },
  {
   "cell_type": "code",
   "execution_count": 7,
   "id": "99878c28",
   "metadata": {},
   "outputs": [
    {
     "name": "stdout",
     "output_type": "stream",
     "text": [
      "<class 'pandas.core.frame.DataFrame'>\n",
      "RangeIndex: 6362620 entries, 0 to 6362619\n",
      "Data columns (total 11 columns):\n",
      " #   Column          Dtype  \n",
      "---  ------          -----  \n",
      " 0   step            int64  \n",
      " 1   type            object \n",
      " 2   amount          float64\n",
      " 3   nameOrig        object \n",
      " 4   oldbalanceOrg   float64\n",
      " 5   newbalanceOrig  float64\n",
      " 6   nameDest        object \n",
      " 7   oldbalanceDest  float64\n",
      " 8   newbalanceDest  float64\n",
      " 9   isFraud         int64  \n",
      " 10  isFlaggedFraud  int64  \n",
      "dtypes: float64(5), int64(3), object(3)\n",
      "memory usage: 534.0+ MB\n"
     ]
    }
   ],
   "source": [
    "df.info()"
   ]
  },
  {
   "cell_type": "code",
   "execution_count": 8,
   "id": "fdb79412",
   "metadata": {},
   "outputs": [
    {
     "data": {
      "text/html": [
       "<div>\n",
       "<style scoped>\n",
       "    .dataframe tbody tr th:only-of-type {\n",
       "        vertical-align: middle;\n",
       "    }\n",
       "\n",
       "    .dataframe tbody tr th {\n",
       "        vertical-align: top;\n",
       "    }\n",
       "\n",
       "    .dataframe thead th {\n",
       "        text-align: right;\n",
       "    }\n",
       "</style>\n",
       "<table border=\"1\" class=\"dataframe\">\n",
       "  <thead>\n",
       "    <tr style=\"text-align: right;\">\n",
       "      <th></th>\n",
       "      <th>step</th>\n",
       "      <th>amount</th>\n",
       "      <th>oldbalanceOrg</th>\n",
       "      <th>newbalanceOrig</th>\n",
       "      <th>oldbalanceDest</th>\n",
       "      <th>newbalanceDest</th>\n",
       "      <th>isFraud</th>\n",
       "      <th>isFlaggedFraud</th>\n",
       "    </tr>\n",
       "  </thead>\n",
       "  <tbody>\n",
       "    <tr>\n",
       "      <th>count</th>\n",
       "      <td>6.362620e+06</td>\n",
       "      <td>6.362620e+06</td>\n",
       "      <td>6.362620e+06</td>\n",
       "      <td>6.362620e+06</td>\n",
       "      <td>6.362620e+06</td>\n",
       "      <td>6.362620e+06</td>\n",
       "      <td>6.362620e+06</td>\n",
       "      <td>6.362620e+06</td>\n",
       "    </tr>\n",
       "    <tr>\n",
       "      <th>mean</th>\n",
       "      <td>2.433972e+02</td>\n",
       "      <td>1.798619e+05</td>\n",
       "      <td>8.338831e+05</td>\n",
       "      <td>8.551137e+05</td>\n",
       "      <td>1.100702e+06</td>\n",
       "      <td>1.224996e+06</td>\n",
       "      <td>1.290820e-03</td>\n",
       "      <td>2.514687e-06</td>\n",
       "    </tr>\n",
       "    <tr>\n",
       "      <th>std</th>\n",
       "      <td>1.423320e+02</td>\n",
       "      <td>6.038582e+05</td>\n",
       "      <td>2.888243e+06</td>\n",
       "      <td>2.924049e+06</td>\n",
       "      <td>3.399180e+06</td>\n",
       "      <td>3.674129e+06</td>\n",
       "      <td>3.590480e-02</td>\n",
       "      <td>1.585775e-03</td>\n",
       "    </tr>\n",
       "    <tr>\n",
       "      <th>min</th>\n",
       "      <td>1.000000e+00</td>\n",
       "      <td>0.000000e+00</td>\n",
       "      <td>0.000000e+00</td>\n",
       "      <td>0.000000e+00</td>\n",
       "      <td>0.000000e+00</td>\n",
       "      <td>0.000000e+00</td>\n",
       "      <td>0.000000e+00</td>\n",
       "      <td>0.000000e+00</td>\n",
       "    </tr>\n",
       "    <tr>\n",
       "      <th>25%</th>\n",
       "      <td>1.560000e+02</td>\n",
       "      <td>1.338957e+04</td>\n",
       "      <td>0.000000e+00</td>\n",
       "      <td>0.000000e+00</td>\n",
       "      <td>0.000000e+00</td>\n",
       "      <td>0.000000e+00</td>\n",
       "      <td>0.000000e+00</td>\n",
       "      <td>0.000000e+00</td>\n",
       "    </tr>\n",
       "    <tr>\n",
       "      <th>50%</th>\n",
       "      <td>2.390000e+02</td>\n",
       "      <td>7.487194e+04</td>\n",
       "      <td>1.420800e+04</td>\n",
       "      <td>0.000000e+00</td>\n",
       "      <td>1.327057e+05</td>\n",
       "      <td>2.146614e+05</td>\n",
       "      <td>0.000000e+00</td>\n",
       "      <td>0.000000e+00</td>\n",
       "    </tr>\n",
       "    <tr>\n",
       "      <th>75%</th>\n",
       "      <td>3.350000e+02</td>\n",
       "      <td>2.087215e+05</td>\n",
       "      <td>1.073152e+05</td>\n",
       "      <td>1.442584e+05</td>\n",
       "      <td>9.430367e+05</td>\n",
       "      <td>1.111909e+06</td>\n",
       "      <td>0.000000e+00</td>\n",
       "      <td>0.000000e+00</td>\n",
       "    </tr>\n",
       "    <tr>\n",
       "      <th>max</th>\n",
       "      <td>7.430000e+02</td>\n",
       "      <td>9.244552e+07</td>\n",
       "      <td>5.958504e+07</td>\n",
       "      <td>4.958504e+07</td>\n",
       "      <td>3.560159e+08</td>\n",
       "      <td>3.561793e+08</td>\n",
       "      <td>1.000000e+00</td>\n",
       "      <td>1.000000e+00</td>\n",
       "    </tr>\n",
       "  </tbody>\n",
       "</table>\n",
       "</div>"
      ],
      "text/plain": [
       "               step        amount  oldbalanceOrg  newbalanceOrig  \\\n",
       "count  6.362620e+06  6.362620e+06   6.362620e+06    6.362620e+06   \n",
       "mean   2.433972e+02  1.798619e+05   8.338831e+05    8.551137e+05   \n",
       "std    1.423320e+02  6.038582e+05   2.888243e+06    2.924049e+06   \n",
       "min    1.000000e+00  0.000000e+00   0.000000e+00    0.000000e+00   \n",
       "25%    1.560000e+02  1.338957e+04   0.000000e+00    0.000000e+00   \n",
       "50%    2.390000e+02  7.487194e+04   1.420800e+04    0.000000e+00   \n",
       "75%    3.350000e+02  2.087215e+05   1.073152e+05    1.442584e+05   \n",
       "max    7.430000e+02  9.244552e+07   5.958504e+07    4.958504e+07   \n",
       "\n",
       "       oldbalanceDest  newbalanceDest       isFraud  isFlaggedFraud  \n",
       "count    6.362620e+06    6.362620e+06  6.362620e+06    6.362620e+06  \n",
       "mean     1.100702e+06    1.224996e+06  1.290820e-03    2.514687e-06  \n",
       "std      3.399180e+06    3.674129e+06  3.590480e-02    1.585775e-03  \n",
       "min      0.000000e+00    0.000000e+00  0.000000e+00    0.000000e+00  \n",
       "25%      0.000000e+00    0.000000e+00  0.000000e+00    0.000000e+00  \n",
       "50%      1.327057e+05    2.146614e+05  0.000000e+00    0.000000e+00  \n",
       "75%      9.430367e+05    1.111909e+06  0.000000e+00    0.000000e+00  \n",
       "max      3.560159e+08    3.561793e+08  1.000000e+00    1.000000e+00  "
      ]
     },
     "execution_count": 8,
     "metadata": {},
     "output_type": "execute_result"
    }
   ],
   "source": [
    "df.describe()"
   ]
  },
  {
   "cell_type": "code",
   "execution_count": 9,
   "id": "74557940",
   "metadata": {},
   "outputs": [
    {
     "data": {
      "text/plain": [
       "step              0\n",
       "type              0\n",
       "amount            0\n",
       "nameOrig          0\n",
       "oldbalanceOrg     0\n",
       "newbalanceOrig    0\n",
       "nameDest          0\n",
       "oldbalanceDest    0\n",
       "newbalanceDest    0\n",
       "isFraud           0\n",
       "isFlaggedFraud    0\n",
       "dtype: int64"
      ]
     },
     "execution_count": 9,
     "metadata": {},
     "output_type": "execute_result"
    }
   ],
   "source": [
    "df.isnull().sum()"
   ]
  },
  {
   "cell_type": "code",
   "execution_count": 10,
   "id": "33cdd539",
   "metadata": {},
   "outputs": [
    {
     "data": {
      "text/plain": [
       "0    6354407\n",
       "1       8213\n",
       "Name: isFraud, dtype: int64"
      ]
     },
     "execution_count": 10,
     "metadata": {},
     "output_type": "execute_result"
    }
   ],
   "source": [
    "df.isFraud.value_counts()"
   ]
  },
  {
   "cell_type": "code",
   "execution_count": 11,
   "id": "ab38bc79",
   "metadata": {},
   "outputs": [],
   "source": [
    "fraud_count = df.isFraud.value_counts()[0]\n",
    "legal_count = df.isFraud.value_counts()[1]"
   ]
  },
  {
   "cell_type": "code",
   "execution_count": 12,
   "id": "f537005b",
   "metadata": {
    "scrolled": true
   },
   "outputs": [
    {
     "name": "stdout",
     "output_type": "stream",
     "text": [
      "Percentage of fraud transactions:  99.87091795518198\n",
      "Percentage of legal transactions:  0.12908204481801522\n"
     ]
    }
   ],
   "source": [
    "print('Percentage of fraud transactions: ',(fraud_count/(fraud_count+legal_count))*100)\n",
    "print('Percentage of legal transactions: ',(legal_count/(fraud_count+legal_count))*100)"
   ]
  },
  {
   "cell_type": "markdown",
   "id": "745dd16e",
   "metadata": {},
   "source": [
    "**Note:** Our original dataset is highly unbalanced! Most of the transactions are non-fraud. If we use this dataframe as the base for our predictive models and analysis we might get a lot of errors and our algorithms will probably overfit since it will \"assume\" that most transactions are not fraud. But we don't want our model to assume, we want our model to detect patterns that give signs of fraud!"
   ]
  },
  {
   "cell_type": "code",
   "execution_count": null,
   "id": "f0e4670e",
   "metadata": {},
   "outputs": [],
   "source": []
  },
  {
   "cell_type": "code",
   "execution_count": 13,
   "id": "736a1484",
   "metadata": {},
   "outputs": [
    {
     "data": {
      "text/plain": [
       "array(['PAYMENT', 'TRANSFER', 'CASH_OUT', 'DEBIT', 'CASH_IN'],\n",
       "      dtype=object)"
      ]
     },
     "execution_count": 13,
     "metadata": {},
     "output_type": "execute_result"
    }
   ],
   "source": [
    "df.type.unique()"
   ]
  },
  {
   "cell_type": "code",
   "execution_count": 14,
   "id": "8d39bc94",
   "metadata": {
    "scrolled": true
   },
   "outputs": [
    {
     "data": {
      "text/plain": [
       "CASH_OUT    2237500\n",
       "PAYMENT     2151495\n",
       "CASH_IN     1399284\n",
       "TRANSFER     532909\n",
       "DEBIT         41432\n",
       "Name: type, dtype: int64"
      ]
     },
     "execution_count": 14,
     "metadata": {},
     "output_type": "execute_result"
    }
   ],
   "source": [
    "df.type.value_counts()"
   ]
  },
  {
   "cell_type": "markdown",
   "id": "cf6f5796",
   "metadata": {},
   "source": [
    "### Reducing the size of dataframe to 10% as it might take a lot of time on my PC to process. \n",
    "- **Note:**\n",
    "    - df1 has been used only for **visualization purposes.**"
   ]
  },
  {
   "cell_type": "code",
   "execution_count": 15,
   "id": "a94e8719",
   "metadata": {},
   "outputs": [],
   "source": [
    "df1=df.sample(n=int(df.shape[0]*0.1), random_state=0)"
   ]
  },
  {
   "cell_type": "code",
   "execution_count": 16,
   "id": "4e41f669",
   "metadata": {},
   "outputs": [
    {
     "data": {
      "text/plain": [
       "(636262, 11)"
      ]
     },
     "execution_count": 16,
     "metadata": {},
     "output_type": "execute_result"
    }
   ],
   "source": [
    "df1.shape"
   ]
  },
  {
   "cell_type": "markdown",
   "id": "c56b8f82",
   "metadata": {},
   "source": [
    "### Data Visualization"
   ]
  },
  {
   "cell_type": "code",
   "execution_count": 17,
   "id": "bceb377f",
   "metadata": {},
   "outputs": [
    {
     "data": {
      "text/plain": [
       "<AxesSubplot:xlabel='type', ylabel='count'>"
      ]
     },
     "execution_count": 17,
     "metadata": {},
     "output_type": "execute_result"
    },
    {
     "data": {
      "image/png": "[encoded data removed]",
      "text/plain": [
       "<Figure size 1080x504 with 1 Axes>"
      ]
     },
     "metadata": {
      "needs_background": "light"
     },
     "output_type": "display_data"
    }
   ],
   "source": [
    "sns.countplot(x=df1['type'])"
   ]
  },
  {
   "cell_type": "code",
   "execution_count": 18,
   "id": "e7b32334",
   "metadata": {},
   "outputs": [
    {
     "data": {
      "text/html": [
       "<div>\n",
       "<style scoped>\n",
       "    .dataframe tbody tr th:only-of-type {\n",
       "        vertical-align: middle;\n",
       "    }\n",
       "\n",
       "    .dataframe tbody tr th {\n",
       "        vertical-align: top;\n",
       "    }\n",
       "\n",
       "    .dataframe thead th {\n",
       "        text-align: right;\n",
       "    }\n",
       "</style>\n",
       "<table border=\"1\" class=\"dataframe\">\n",
       "  <thead>\n",
       "    <tr style=\"text-align: right;\">\n",
       "      <th></th>\n",
       "      <th>step</th>\n",
       "      <th>type</th>\n",
       "      <th>amount</th>\n",
       "      <th>nameOrig</th>\n",
       "      <th>oldbalanceOrg</th>\n",
       "      <th>newbalanceOrig</th>\n",
       "      <th>nameDest</th>\n",
       "      <th>oldbalanceDest</th>\n",
       "      <th>newbalanceDest</th>\n",
       "      <th>isFraud</th>\n",
       "      <th>isFlaggedFraud</th>\n",
       "    </tr>\n",
       "  </thead>\n",
       "  <tbody>\n",
       "    <tr>\n",
       "      <th>3800666</th>\n",
       "      <td>281</td>\n",
       "      <td>PAYMENT</td>\n",
       "      <td>3473.75</td>\n",
       "      <td>C1283140808</td>\n",
       "      <td>0.00</td>\n",
       "      <td>0.00</td>\n",
       "      <td>M2044695613</td>\n",
       "      <td>0.0</td>\n",
       "      <td>0.0</td>\n",
       "      <td>0</td>\n",
       "      <td>0</td>\n",
       "    </tr>\n",
       "    <tr>\n",
       "      <th>3500205</th>\n",
       "      <td>259</td>\n",
       "      <td>PAYMENT</td>\n",
       "      <td>12401.59</td>\n",
       "      <td>C1932491210</td>\n",
       "      <td>115022.00</td>\n",
       "      <td>102620.41</td>\n",
       "      <td>M1912182734</td>\n",
       "      <td>0.0</td>\n",
       "      <td>0.0</td>\n",
       "      <td>0</td>\n",
       "      <td>0</td>\n",
       "    </tr>\n",
       "    <tr>\n",
       "      <th>4546763</th>\n",
       "      <td>326</td>\n",
       "      <td>PAYMENT</td>\n",
       "      <td>0.24</td>\n",
       "      <td>C1560061062</td>\n",
       "      <td>2860.00</td>\n",
       "      <td>2859.76</td>\n",
       "      <td>M80636379</td>\n",
       "      <td>0.0</td>\n",
       "      <td>0.0</td>\n",
       "      <td>0</td>\n",
       "      <td>0</td>\n",
       "    </tr>\n",
       "    <tr>\n",
       "      <th>5496085</th>\n",
       "      <td>380</td>\n",
       "      <td>PAYMENT</td>\n",
       "      <td>61681.67</td>\n",
       "      <td>C373132241</td>\n",
       "      <td>231357.94</td>\n",
       "      <td>169676.27</td>\n",
       "      <td>M638432919</td>\n",
       "      <td>0.0</td>\n",
       "      <td>0.0</td>\n",
       "      <td>0</td>\n",
       "      <td>0</td>\n",
       "    </tr>\n",
       "    <tr>\n",
       "      <th>1806606</th>\n",
       "      <td>163</td>\n",
       "      <td>PAYMENT</td>\n",
       "      <td>15540.69</td>\n",
       "      <td>C1669763682</td>\n",
       "      <td>0.00</td>\n",
       "      <td>0.00</td>\n",
       "      <td>M1512738381</td>\n",
       "      <td>0.0</td>\n",
       "      <td>0.0</td>\n",
       "      <td>0</td>\n",
       "      <td>0</td>\n",
       "    </tr>\n",
       "    <tr>\n",
       "      <th>...</th>\n",
       "      <td>...</td>\n",
       "      <td>...</td>\n",
       "      <td>...</td>\n",
       "      <td>...</td>\n",
       "      <td>...</td>\n",
       "      <td>...</td>\n",
       "      <td>...</td>\n",
       "      <td>...</td>\n",
       "      <td>...</td>\n",
       "      <td>...</td>\n",
       "      <td>...</td>\n",
       "    </tr>\n",
       "    <tr>\n",
       "      <th>2637639</th>\n",
       "      <td>209</td>\n",
       "      <td>PAYMENT</td>\n",
       "      <td>7129.62</td>\n",
       "      <td>C515557064</td>\n",
       "      <td>0.00</td>\n",
       "      <td>0.00</td>\n",
       "      <td>M919661301</td>\n",
       "      <td>0.0</td>\n",
       "      <td>0.0</td>\n",
       "      <td>0</td>\n",
       "      <td>0</td>\n",
       "    </tr>\n",
       "    <tr>\n",
       "      <th>4733204</th>\n",
       "      <td>332</td>\n",
       "      <td>PAYMENT</td>\n",
       "      <td>24603.85</td>\n",
       "      <td>C1121684557</td>\n",
       "      <td>258592.00</td>\n",
       "      <td>233988.15</td>\n",
       "      <td>M277576142</td>\n",
       "      <td>0.0</td>\n",
       "      <td>0.0</td>\n",
       "      <td>0</td>\n",
       "      <td>0</td>\n",
       "    </tr>\n",
       "    <tr>\n",
       "      <th>4929174</th>\n",
       "      <td>350</td>\n",
       "      <td>PAYMENT</td>\n",
       "      <td>8423.82</td>\n",
       "      <td>C473819740</td>\n",
       "      <td>0.00</td>\n",
       "      <td>0.00</td>\n",
       "      <td>M685452347</td>\n",
       "      <td>0.0</td>\n",
       "      <td>0.0</td>\n",
       "      <td>0</td>\n",
       "      <td>0</td>\n",
       "    </tr>\n",
       "    <tr>\n",
       "      <th>4375316</th>\n",
       "      <td>311</td>\n",
       "      <td>PAYMENT</td>\n",
       "      <td>8809.35</td>\n",
       "      <td>C1474856853</td>\n",
       "      <td>73614.00</td>\n",
       "      <td>64804.65</td>\n",
       "      <td>M1665903236</td>\n",
       "      <td>0.0</td>\n",
       "      <td>0.0</td>\n",
       "      <td>0</td>\n",
       "      <td>0</td>\n",
       "    </tr>\n",
       "    <tr>\n",
       "      <th>222539</th>\n",
       "      <td>14</td>\n",
       "      <td>PAYMENT</td>\n",
       "      <td>24320.62</td>\n",
       "      <td>C355309528</td>\n",
       "      <td>0.00</td>\n",
       "      <td>0.00</td>\n",
       "      <td>M2100419863</td>\n",
       "      <td>0.0</td>\n",
       "      <td>0.0</td>\n",
       "      <td>0</td>\n",
       "      <td>0</td>\n",
       "    </tr>\n",
       "  </tbody>\n",
       "</table>\n",
       "<p>215659 rows × 11 columns</p>\n",
       "</div>"
      ],
      "text/plain": [
       "         step     type    amount     nameOrig  oldbalanceOrg  newbalanceOrig  \\\n",
       "3800666   281  PAYMENT   3473.75  C1283140808           0.00            0.00   \n",
       "3500205   259  PAYMENT  12401.59  C1932491210      115022.00       102620.41   \n",
       "4546763   326  PAYMENT      0.24  C1560061062        2860.00         2859.76   \n",
       "5496085   380  PAYMENT  61681.67   C373132241      231357.94       169676.27   \n",
       "1806606   163  PAYMENT  15540.69  C1669763682           0.00            0.00   \n",
       "...       ...      ...       ...          ...            ...             ...   \n",
       "2637639   209  PAYMENT   7129.62   C515557064           0.00            0.00   \n",
       "4733204   332  PAYMENT  24603.85  C1121684557      258592.00       233988.15   \n",
       "4929174   350  PAYMENT   8423.82   C473819740           0.00            0.00   \n",
       "4375316   311  PAYMENT   8809.35  C1474856853       73614.00        64804.65   \n",
       "222539     14  PAYMENT  24320.62   C355309528           0.00            0.00   \n",
       "\n",
       "            nameDest  oldbalanceDest  newbalanceDest  isFraud  isFlaggedFraud  \n",
       "3800666  M2044695613             0.0             0.0        0               0  \n",
       "3500205  M1912182734             0.0             0.0        0               0  \n",
       "4546763    M80636379             0.0             0.0        0               0  \n",
       "5496085   M638432919             0.0             0.0        0               0  \n",
       "1806606  M1512738381             0.0             0.0        0               0  \n",
       "...              ...             ...             ...      ...             ...  \n",
       "2637639   M919661301             0.0             0.0        0               0  \n",
       "4733204   M277576142             0.0             0.0        0               0  \n",
       "4929174   M685452347             0.0             0.0        0               0  \n",
       "4375316  M1665903236             0.0             0.0        0               0  \n",
       "222539   M2100419863             0.0             0.0        0               0  \n",
       "\n",
       "[215659 rows x 11 columns]"
      ]
     },
     "execution_count": 18,
     "metadata": {},
     "output_type": "execute_result"
    }
   ],
   "source": [
    "#Merchants and its relation with Fraud transactions\n",
    "df_merchant = df1[df1['nameDest'].str.contains('M')]\n",
    "df_merchant"
   ]
  },
  {
   "cell_type": "code",
   "execution_count": 19,
   "id": "a82a6ec1",
   "metadata": {},
   "outputs": [
    {
     "data": {
      "text/plain": [
       "0    215659\n",
       "Name: isFraud, dtype: int64"
      ]
     },
     "execution_count": 19,
     "metadata": {},
     "output_type": "execute_result"
    }
   ],
   "source": [
    "df_merchant.isFraud.value_counts()"
   ]
  },
  {
   "cell_type": "markdown",
   "id": "e2ac05a6",
   "metadata": {},
   "source": [
    "### Conclusion:\n",
    "- None of the transactions from merchant is fraud.\n",
    "- Hence we can drop all transactions from merchants, while training our model."
   ]
  },
  {
   "cell_type": "code",
   "execution_count": 20,
   "id": "c410999b",
   "metadata": {},
   "outputs": [
    {
     "data": {
      "text/plain": [
       "(636262, 11)"
      ]
     },
     "execution_count": 20,
     "metadata": {},
     "output_type": "execute_result"
    }
   ],
   "source": [
    "df1[df1['nameOrig'].str.contains('C')].shape"
   ]
  },
  {
   "cell_type": "markdown",
   "id": "0b4d59dc",
   "metadata": {},
   "source": [
    "- NO problem with Customers part."
   ]
  },
  {
   "cell_type": "code",
   "execution_count": 21,
   "id": "84628d10",
   "metadata": {},
   "outputs": [
    {
     "data": {
      "text/plain": [
       "<AxesSubplot:xlabel='isFraud', ylabel='amount'>"
      ]
     },
     "execution_count": 21,
     "metadata": {},
     "output_type": "execute_result"
    },
    {
     "data": {
      "image/png": "[encoded data removed]",
      "text/plain": [
       "<Figure size 1080x2160 with 6 Axes>"
      ]
     },
     "metadata": {
      "needs_background": "light"
     },
     "output_type": "display_data"
    }
   ],
   "source": [
    "fig,ax=plt.subplots(3,2,figsize=(15,30))\n",
    "sns.violinplot(x=df1.isFraud,y=df1['oldbalanceOrg'],ax=ax[0][0])\n",
    "sns.violinplot(x=df1.isFraud,y=df1['newbalanceOrig'],ax=ax[0][1])\n",
    "sns.violinplot(x=df1.isFraud,y=df1['oldbalanceDest'],ax=ax[1][0])\n",
    "sns.violinplot(x=df1.isFraud,y=df1['newbalanceDest'],ax=ax[1][1])\n",
    "\n",
    "sns.violinplot(x=df1.isFraud,y=df1['amount'],ax=ax[2][0])"
   ]
  },
  {
   "cell_type": "markdown",
   "id": "5a7d7e8f",
   "metadata": {},
   "source": [
    "#### Conclusions from above plots:-\n",
    "* In almost all of the fraud transaction cases newbalanceOrg is **0.**\n",
    "- Accounts with very very high oldbalanceOrg have very low chances of havig fraud transactions.(expected)\n"
   ]
  },
  {
   "cell_type": "markdown",
   "id": "420a8030",
   "metadata": {},
   "source": [
    "#### Correlation matrix -> Multicolinearity"
   ]
  },
  {
   "cell_type": "code",
   "execution_count": 22,
   "id": "bb42003d",
   "metadata": {},
   "outputs": [
    {
     "data": {
      "image/png": "[encoded data removed]",
      "text/plain": [
       "<Figure size 1080x504 with 2 Axes>"
      ]
     },
     "metadata": {
      "needs_background": "light"
     },
     "output_type": "display_data"
    }
   ],
   "source": [
    "corr_matrix= df1.corr() # by default it uses pearson's correlation\n",
    "# corr_matrix\n",
    "sns.heatmap(corr_matrix,annot=True)\n",
    "plt.xlabel('Transaction Features')\n",
    "plt.ylabel('Transaction Features')\n",
    "plt.title('Correlation matrix for numeric features')\n",
    "plt.show()"
   ]
  },
  {
   "cell_type": "markdown",
   "id": "25384d55",
   "metadata": {},
   "source": [
    "-  **Some Obvious Conclusions from Correlation matrix **\n",
    "- newbalanceDest is highly correlated with oldbalanceDest which is obvious.\n",
    "- newbalanceDest and oldbalanceDest is correlated with the amount of transaction which is obvious."
   ]
  },
  {
   "cell_type": "code",
   "execution_count": 23,
   "id": "764ef027",
   "metadata": {
    "scrolled": false
   },
   "outputs": [
    {
     "name": "stderr",
     "output_type": "stream",
     "text": [
      "C:\\Users\\HP\\anaconda3\\lib\\site-packages\\seaborn\\distributions.py:2619: FutureWarning: `distplot` is a deprecated function and will be removed in a future version. Please adapt your code to use either `displot` (a figure-level function with similar flexibility) or `histplot` (an axes-level function for histograms).\n",
      "  warnings.warn(msg, FutureWarning)\n",
      "C:\\Users\\HP\\anaconda3\\lib\\site-packages\\seaborn\\distributions.py:2619: FutureWarning: `distplot` is a deprecated function and will be removed in a future version. Please adapt your code to use either `displot` (a figure-level function with similar flexibility) or `histplot` (an axes-level function for histograms).\n",
      "  warnings.warn(msg, FutureWarning)\n"
     ]
    },
    {
     "data": {
      "image/png": "[encoded data removed]",
      "text/plain": [
       "<Figure size 1296x288 with 2 Axes>"
      ]
     },
     "metadata": {
      "needs_background": "light"
     },
     "output_type": "display_data"
    }
   ],
   "source": [
    "# sns.displot(data = df1,x='amount',kind='kde')\n",
    "fig, ax = plt.subplots(1, 2, figsize=(18,4))\n",
    "\n",
    "amount_val = df1['amount'].values\n",
    "time_val = df1['step'].values\n",
    "\n",
    "sns.distplot(amount_val, ax=ax[0], color='r')\n",
    "ax[0].set_title('Distribution of Transaction Amount', fontsize=13)\n",
    "ax[0].set_xlim([min(amount_val), max(amount_val)])\n",
    "\n",
    "sns.distplot(time_val, ax=ax[1], color='b')\n",
    "ax[1].set_title('Distribution of Transaction Time(Step)', fontsize=13)\n",
    "ax[1].set_xlim([min(time_val), max(time_val)])\n",
    "\n",
    "plt.show()"
   ]
  },
  {
   "cell_type": "markdown",
   "id": "66017942",
   "metadata": {},
   "source": [
    "- Most of the transactions are for value less than 200,000."
   ]
  },
  {
   "cell_type": "code",
   "execution_count": 24,
   "id": "686cfc4f",
   "metadata": {},
   "outputs": [],
   "source": [
    "#Droping transactions from merchants(as all transactions from merchants are non-fraud)\n",
    "df_new = df[~df.nameDest.str.contains('M')].copy()"
   ]
  },
  {
   "cell_type": "code",
   "execution_count": 25,
   "id": "1cf12b58",
   "metadata": {
    "scrolled": true
   },
   "outputs": [
    {
     "data": {
      "text/plain": [
       "0    4202912\n",
       "1       8213\n",
       "Name: isFraud, dtype: int64"
      ]
     },
     "execution_count": 25,
     "metadata": {},
     "output_type": "execute_result"
    }
   ],
   "source": [
    "df_new.isFraud.value_counts()"
   ]
  },
  {
   "cell_type": "markdown",
   "id": "a8d1ddae",
   "metadata": {},
   "source": [
    "#### Scaling\n",
    "- Here, we first need to do scaling of amount and time(step).\n",
    "- Also,we need to create a sub sample of the dataframe in order to have an equal amount of Fraud and Non-Fraud cases, helping our algorithms better understand patterns that determines whether a transaction is a fraud or not.\n",
    "- In this scenario we need to create a sub sample which contains fraud and non-fraud case in 50:50 ratio(i.e.- our model will have fraud and non-fraud cases in approximately same number)\n",
    "- There is very high risk that our model overfits the dataset.\n",
    "    - **Overfitting:** Our classification model will assume the all transactions to be non-fraud(legal).But, we don't want that to happen. We ant to be sure of it whenever it occurs.\n",
    "\n",
    "***\n",
    "**Summary:-**\n",
    "- Important    \n",
    "    - We will have **scaled_time** and **scaled_amount** as new columns replacing step and amount respectively.\n",
    "    - There are 8213 cases of fraud in our dataset so we can randomly choose the same number of cases for non-fraud transactions.\n",
    "    - We wil concat the fraud cases and non fraud cases as discussed above."
   ]
  },
  {
   "cell_type": "code",
   "execution_count": 26,
   "id": "753c6b48",
   "metadata": {},
   "outputs": [],
   "source": [
    "from sklearn.preprocessing import StandardScaler,RobustScaler\n",
    "\n",
    "std_scaler = StandardScaler()\n",
    "rob_scaler = RobustScaler()\n",
    "\n",
    "df_new['scaled_amount'] = rob_scaler.fit_transform(df_new['amount'].values.reshape(-1,1))\n",
    "df_new['scaled_time'] = rob_scaler.fit_transform(df_new['step'].values.reshape(-1,1))\n",
    "\n",
    "df_new.drop(['step','amount'], axis=1, inplace=True)"
   ]
  },
  {
   "cell_type": "code",
   "execution_count": 27,
   "id": "aa5b9bb5",
   "metadata": {},
   "outputs": [
    {
     "data": {
      "text/html": [
       "<div>\n",
       "<style scoped>\n",
       "    .dataframe tbody tr th:only-of-type {\n",
       "        vertical-align: middle;\n",
       "    }\n",
       "\n",
       "    .dataframe tbody tr th {\n",
       "        vertical-align: top;\n",
       "    }\n",
       "\n",
       "    .dataframe thead th {\n",
       "        text-align: right;\n",
       "    }\n",
       "</style>\n",
       "<table border=\"1\" class=\"dataframe\">\n",
       "  <thead>\n",
       "    <tr style=\"text-align: right;\">\n",
       "      <th></th>\n",
       "      <th>type</th>\n",
       "      <th>nameOrig</th>\n",
       "      <th>oldbalanceOrg</th>\n",
       "      <th>newbalanceOrig</th>\n",
       "      <th>nameDest</th>\n",
       "      <th>oldbalanceDest</th>\n",
       "      <th>newbalanceDest</th>\n",
       "      <th>isFraud</th>\n",
       "      <th>isFlaggedFraud</th>\n",
       "      <th>scaled_amount</th>\n",
       "      <th>scaled_time</th>\n",
       "    </tr>\n",
       "  </thead>\n",
       "  <tbody>\n",
       "    <tr>\n",
       "      <th>2</th>\n",
       "      <td>TRANSFER</td>\n",
       "      <td>C1305486145</td>\n",
       "      <td>181.0</td>\n",
       "      <td>0.00</td>\n",
       "      <td>C553264065</td>\n",
       "      <td>0.0</td>\n",
       "      <td>0.00</td>\n",
       "      <td>1</td>\n",
       "      <td>0</td>\n",
       "      <td>-0.784400</td>\n",
       "      <td>-1.318436</td>\n",
       "    </tr>\n",
       "    <tr>\n",
       "      <th>3</th>\n",
       "      <td>CASH_OUT</td>\n",
       "      <td>C840083671</td>\n",
       "      <td>181.0</td>\n",
       "      <td>0.00</td>\n",
       "      <td>C38997010</td>\n",
       "      <td>21182.0</td>\n",
       "      <td>0.00</td>\n",
       "      <td>1</td>\n",
       "      <td>0</td>\n",
       "      <td>-0.784400</td>\n",
       "      <td>-1.318436</td>\n",
       "    </tr>\n",
       "    <tr>\n",
       "      <th>9</th>\n",
       "      <td>DEBIT</td>\n",
       "      <td>C712410124</td>\n",
       "      <td>41720.0</td>\n",
       "      <td>36382.23</td>\n",
       "      <td>C195600860</td>\n",
       "      <td>41898.0</td>\n",
       "      <td>40348.79</td>\n",
       "      <td>0</td>\n",
       "      <td>0</td>\n",
       "      <td>-0.758922</td>\n",
       "      <td>-1.318436</td>\n",
       "    </tr>\n",
       "    <tr>\n",
       "      <th>10</th>\n",
       "      <td>DEBIT</td>\n",
       "      <td>C1900366749</td>\n",
       "      <td>4465.0</td>\n",
       "      <td>0.00</td>\n",
       "      <td>C997608398</td>\n",
       "      <td>10845.0</td>\n",
       "      <td>157982.12</td>\n",
       "      <td>0</td>\n",
       "      <td>0</td>\n",
       "      <td>-0.737642</td>\n",
       "      <td>-1.318436</td>\n",
       "    </tr>\n",
       "    <tr>\n",
       "      <th>15</th>\n",
       "      <td>CASH_OUT</td>\n",
       "      <td>C905080434</td>\n",
       "      <td>15325.0</td>\n",
       "      <td>0.00</td>\n",
       "      <td>C476402209</td>\n",
       "      <td>5083.0</td>\n",
       "      <td>51513.44</td>\n",
       "      <td>0</td>\n",
       "      <td>0</td>\n",
       "      <td>0.346793</td>\n",
       "      <td>-1.318436</td>\n",
       "    </tr>\n",
       "  </tbody>\n",
       "</table>\n",
       "</div>"
      ],
      "text/plain": [
       "        type     nameOrig  oldbalanceOrg  newbalanceOrig    nameDest  \\\n",
       "2   TRANSFER  C1305486145          181.0            0.00  C553264065   \n",
       "3   CASH_OUT   C840083671          181.0            0.00   C38997010   \n",
       "9      DEBIT   C712410124        41720.0        36382.23  C195600860   \n",
       "10     DEBIT  C1900366749         4465.0            0.00  C997608398   \n",
       "15  CASH_OUT   C905080434        15325.0            0.00  C476402209   \n",
       "\n",
       "    oldbalanceDest  newbalanceDest  isFraud  isFlaggedFraud  scaled_amount  \\\n",
       "2              0.0            0.00        1               0      -0.784400   \n",
       "3          21182.0            0.00        1               0      -0.784400   \n",
       "9          41898.0        40348.79        0               0      -0.758922   \n",
       "10         10845.0       157982.12        0               0      -0.737642   \n",
       "15          5083.0        51513.44        0               0       0.346793   \n",
       "\n",
       "    scaled_time  \n",
       "2     -1.318436  \n",
       "3     -1.318436  \n",
       "9     -1.318436  \n",
       "10    -1.318436  \n",
       "15    -1.318436  "
      ]
     },
     "execution_count": 27,
     "metadata": {},
     "output_type": "execute_result"
    }
   ],
   "source": [
    "df_new.head()"
   ]
  },
  {
   "cell_type": "markdown",
   "id": "5b140262",
   "metadata": {},
   "source": [
    "- Points to focus:-\n",
    "    - We need to use label encoding for type column.\n",
    "    - We also need to scale the balance related columns.\n",
    "    - Then we will drop nameOrig,nameDest,isFlaggedFraud. Here we are droping nameOrig and nameDest as their entropy is nearly equal to 1 and they are not going to effect whether a transaction is fraud or not.\n",
    "    - Then our data will be ready for model training and testiong."
   ]
  },
  {
   "cell_type": "code",
   "execution_count": 28,
   "id": "15bee7f3",
   "metadata": {},
   "outputs": [],
   "source": [
    "from sklearn.preprocessing import LabelEncoder\n",
    "le = LabelEncoder()\n",
    "df_new['labelled_type'] = le.fit_transform(df_new['type'].astype(str))"
   ]
  },
  {
   "cell_type": "code",
   "execution_count": 29,
   "id": "1eac80e0",
   "metadata": {},
   "outputs": [],
   "source": [
    "df_new.drop(['type','nameOrig','nameDest','isFlaggedFraud'],axis=1,inplace=True)"
   ]
  },
  {
   "cell_type": "code",
   "execution_count": 30,
   "id": "20f02550",
   "metadata": {},
   "outputs": [],
   "source": [
    "# we will use standard scaling for balance columns\n",
    "df_new['norm_oldbalanceOrig'] = std_scaler.fit_transform(df_new['oldbalanceOrg'].values.reshape(-1,1))\n",
    "df_new['norm_newbalanceOrig'] = std_scaler.fit_transform(df_new['newbalanceOrig'].values.reshape(-1,1))\n",
    "df_new['norm_oldbalanceDest'] = std_scaler.fit_transform(df_new['oldbalanceDest'].values.reshape(-1,1))\n",
    "df_new['norm_newbalanceDest'] = std_scaler.fit_transform(df_new['newbalanceDest'].values.reshape(-1,1))\n",
    "\n",
    "#droping these columns\n",
    "df_new.drop(['oldbalanceOrg','newbalanceOrig','oldbalanceDest','newbalanceDest'], inplace= True, axis= 1)\n"
   ]
  },
  {
   "cell_type": "code",
   "execution_count": 31,
   "id": "f0ca5a42",
   "metadata": {
    "scrolled": true
   },
   "outputs": [
    {
     "data": {
      "text/html": [
       "<div>\n",
       "<style scoped>\n",
       "    .dataframe tbody tr th:only-of-type {\n",
       "        vertical-align: middle;\n",
       "    }\n",
       "\n",
       "    .dataframe tbody tr th {\n",
       "        vertical-align: top;\n",
       "    }\n",
       "\n",
       "    .dataframe thead th {\n",
       "        text-align: right;\n",
       "    }\n",
       "</style>\n",
       "<table border=\"1\" class=\"dataframe\">\n",
       "  <thead>\n",
       "    <tr style=\"text-align: right;\">\n",
       "      <th></th>\n",
       "      <th>isFraud</th>\n",
       "      <th>scaled_amount</th>\n",
       "      <th>scaled_time</th>\n",
       "      <th>labelled_type</th>\n",
       "      <th>norm_oldbalanceOrig</th>\n",
       "      <th>norm_newbalanceOrig</th>\n",
       "      <th>norm_oldbalanceDest</th>\n",
       "      <th>norm_newbalanceDest</th>\n",
       "    </tr>\n",
       "  </thead>\n",
       "  <tbody>\n",
       "    <tr>\n",
       "      <th>2</th>\n",
       "      <td>1</td>\n",
       "      <td>-0.784400</td>\n",
       "      <td>-1.318436</td>\n",
       "      <td>3</td>\n",
       "      <td>-0.351678</td>\n",
       "      <td>-0.357747</td>\n",
       "      <td>-0.409139</td>\n",
       "      <td>-0.421984</td>\n",
       "    </tr>\n",
       "    <tr>\n",
       "      <th>3</th>\n",
       "      <td>1</td>\n",
       "      <td>-0.784400</td>\n",
       "      <td>-1.318436</td>\n",
       "      <td>1</td>\n",
       "      <td>-0.351678</td>\n",
       "      <td>-0.357747</td>\n",
       "      <td>-0.403928</td>\n",
       "      <td>-0.421984</td>\n",
       "    </tr>\n",
       "    <tr>\n",
       "      <th>9</th>\n",
       "      <td>0</td>\n",
       "      <td>-0.758922</td>\n",
       "      <td>-1.318436</td>\n",
       "      <td>2</td>\n",
       "      <td>-0.339752</td>\n",
       "      <td>-0.347420</td>\n",
       "      <td>-0.398831</td>\n",
       "      <td>-0.412785</td>\n",
       "    </tr>\n",
       "    <tr>\n",
       "      <th>10</th>\n",
       "      <td>0</td>\n",
       "      <td>-0.737642</td>\n",
       "      <td>-1.318436</td>\n",
       "      <td>2</td>\n",
       "      <td>-0.350448</td>\n",
       "      <td>-0.357747</td>\n",
       "      <td>-0.406471</td>\n",
       "      <td>-0.385965</td>\n",
       "    </tr>\n",
       "    <tr>\n",
       "      <th>15</th>\n",
       "      <td>0</td>\n",
       "      <td>0.346793</td>\n",
       "      <td>-1.318436</td>\n",
       "      <td>1</td>\n",
       "      <td>-0.347330</td>\n",
       "      <td>-0.357747</td>\n",
       "      <td>-0.407888</td>\n",
       "      <td>-0.410239</td>\n",
       "    </tr>\n",
       "  </tbody>\n",
       "</table>\n",
       "</div>"
      ],
      "text/plain": [
       "    isFraud  scaled_amount  scaled_time  labelled_type  norm_oldbalanceOrig  \\\n",
       "2         1      -0.784400    -1.318436              3            -0.351678   \n",
       "3         1      -0.784400    -1.318436              1            -0.351678   \n",
       "9         0      -0.758922    -1.318436              2            -0.339752   \n",
       "10        0      -0.737642    -1.318436              2            -0.350448   \n",
       "15        0       0.346793    -1.318436              1            -0.347330   \n",
       "\n",
       "    norm_newbalanceOrig  norm_oldbalanceDest  norm_newbalanceDest  \n",
       "2             -0.357747            -0.409139            -0.421984  \n",
       "3             -0.357747            -0.403928            -0.421984  \n",
       "9             -0.347420            -0.398831            -0.412785  \n",
       "10            -0.357747            -0.406471            -0.385965  \n",
       "15            -0.357747            -0.407888            -0.410239  "
      ]
     },
     "execution_count": 31,
     "metadata": {},
     "output_type": "execute_result"
    }
   ],
   "source": [
    "df_new.head()"
   ]
  },
  {
   "cell_type": "markdown",
   "id": "f4d99abc",
   "metadata": {},
   "source": [
    "### Splitting the data "
   ]
  },
  {
   "cell_type": "code",
   "execution_count": 32,
   "id": "2a2d1b47",
   "metadata": {},
   "outputs": [],
   "source": [
    "from sklearn.model_selection import train_test_split\n",
    "from sklearn.model_selection import StratifiedShuffleSplit\n",
    "\n",
    "X = df_new.drop('isFraud',axis=1)\n",
    "y = df_new['isFraud']\n"
   ]
  },
  {
   "cell_type": "markdown",
   "id": "33ba5b8a",
   "metadata": {},
   "source": [
    "#### Random Under Sampling\n",
    "- We will implement \"Random Under Sampling\" which basically consists of removing data in order to have a more balanced dataset and thus avoiding our models to overfitting.\n",
    "##### Steps:-\n",
    "    - We should bring the non-fraud transactions to the same amount as fraud transactions (assuming we want a 50/50 ratio), this will be equivalent to 8213 cases of fraud and 8213 cases of non-fraud transactions.\n",
    "    - After implementing this technique, we have a sub-sample of our dataframe with a 50/50 ratio with regards to our classes. Then the next step we will implement is to shuffle the data to see if our models can maintain a certain accuracy everytime we run this script.\n",
    "    \n",
    "**Note:**\n",
    "    - The main issue with \"Random Under-Sampling\" is that we run the risk that our classification models will not perform as accurate as we would like to since there is a great deal of **information loss.**"
   ]
  },
  {
   "cell_type": "code",
   "execution_count": 33,
   "id": "8c6da088",
   "metadata": {},
   "outputs": [
    {
     "data": {
      "text/html": [
       "<div>\n",
       "<style scoped>\n",
       "    .dataframe tbody tr th:only-of-type {\n",
       "        vertical-align: middle;\n",
       "    }\n",
       "\n",
       "    .dataframe tbody tr th {\n",
       "        vertical-align: top;\n",
       "    }\n",
       "\n",
       "    .dataframe thead th {\n",
       "        text-align: right;\n",
       "    }\n",
       "</style>\n",
       "<table border=\"1\" class=\"dataframe\">\n",
       "  <thead>\n",
       "    <tr style=\"text-align: right;\">\n",
       "      <th></th>\n",
       "      <th>isFraud</th>\n",
       "      <th>scaled_amount</th>\n",
       "      <th>scaled_time</th>\n",
       "      <th>labelled_type</th>\n",
       "      <th>norm_oldbalanceOrig</th>\n",
       "      <th>norm_newbalanceOrig</th>\n",
       "      <th>norm_oldbalanceDest</th>\n",
       "      <th>norm_newbalanceDest</th>\n",
       "    </tr>\n",
       "  </thead>\n",
       "  <tbody>\n",
       "    <tr>\n",
       "      <th>4931810</th>\n",
       "      <td>0</td>\n",
       "      <td>1.933924</td>\n",
       "      <td>0.631285</td>\n",
       "      <td>3</td>\n",
       "      <td>-0.343973</td>\n",
       "      <td>-0.357747</td>\n",
       "      <td>-0.409139</td>\n",
       "      <td>-0.296503</td>\n",
       "    </tr>\n",
       "    <tr>\n",
       "      <th>4125783</th>\n",
       "      <td>0</td>\n",
       "      <td>-0.318272</td>\n",
       "      <td>0.363128</td>\n",
       "      <td>1</td>\n",
       "      <td>-0.336991</td>\n",
       "      <td>-0.357747</td>\n",
       "      <td>-0.401784</td>\n",
       "      <td>-0.393617</td>\n",
       "    </tr>\n",
       "    <tr>\n",
       "      <th>6019708</th>\n",
       "      <td>1</td>\n",
       "      <td>-0.391434</td>\n",
       "      <td>1.223464</td>\n",
       "      <td>3</td>\n",
       "      <td>-0.328842</td>\n",
       "      <td>-0.357747</td>\n",
       "      <td>-0.409139</td>\n",
       "      <td>-0.421984</td>\n",
       "    </tr>\n",
       "    <tr>\n",
       "      <th>4775</th>\n",
       "      <td>1</td>\n",
       "      <td>-0.360046</td>\n",
       "      <td>-1.301676</td>\n",
       "      <td>3</td>\n",
       "      <td>-0.327018</td>\n",
       "      <td>-0.357747</td>\n",
       "      <td>-0.409139</td>\n",
       "      <td>-0.421984</td>\n",
       "    </tr>\n",
       "    <tr>\n",
       "      <th>792109</th>\n",
       "      <td>1</td>\n",
       "      <td>-0.652142</td>\n",
       "      <td>-1.100559</td>\n",
       "      <td>3</td>\n",
       "      <td>-0.343992</td>\n",
       "      <td>-0.357747</td>\n",
       "      <td>-0.409139</td>\n",
       "      <td>-0.421984</td>\n",
       "    </tr>\n",
       "  </tbody>\n",
       "</table>\n",
       "</div>"
      ],
      "text/plain": [
       "         isFraud  scaled_amount  scaled_time  labelled_type  \\\n",
       "4931810        0       1.933924     0.631285              3   \n",
       "4125783        0      -0.318272     0.363128              1   \n",
       "6019708        1      -0.391434     1.223464              3   \n",
       "4775           1      -0.360046    -1.301676              3   \n",
       "792109         1      -0.652142    -1.100559              3   \n",
       "\n",
       "         norm_oldbalanceOrig  norm_newbalanceOrig  norm_oldbalanceDest  \\\n",
       "4931810            -0.343973            -0.357747            -0.409139   \n",
       "4125783            -0.336991            -0.357747            -0.401784   \n",
       "6019708            -0.328842            -0.357747            -0.409139   \n",
       "4775               -0.327018            -0.357747            -0.409139   \n",
       "792109             -0.343992            -0.357747            -0.409139   \n",
       "\n",
       "         norm_newbalanceDest  \n",
       "4931810            -0.296503  \n",
       "4125783            -0.393617  \n",
       "6019708            -0.421984  \n",
       "4775               -0.421984  \n",
       "792109             -0.421984  "
      ]
     },
     "execution_count": 33,
     "metadata": {},
     "output_type": "execute_result"
    }
   ],
   "source": [
    "# Lets shuffle the data before creating the subsamples\n",
    "\n",
    "df_new = df_new.sample(frac=1)\n",
    "\n",
    "# amount of fraud classes 8213 rows.\n",
    "fraud_df = df_new.loc[df_new['isFraud'] == 1]\n",
    "non_fraud_df = df_new.loc[df_new['isFraud'] == 0][:8213]\n",
    "\n",
    "normal_distributed_df = pd.concat([fraud_df, non_fraud_df])\n",
    "\n",
    "# Shuffle dataframe rows\n",
    "req_df = normal_distributed_df.sample(frac=1, random_state=42)\n",
    "\n",
    "req_df.head()"
   ]
  },
  {
   "cell_type": "code",
   "execution_count": 34,
   "id": "9455c77e",
   "metadata": {},
   "outputs": [
    {
     "name": "stdout",
     "output_type": "stream",
     "text": [
      "Distribution of fraud and non-fraud in sample dataset:\n",
      "0    0.5\n",
      "1    0.5\n",
      "Name: isFraud, dtype: float64\n"
     ]
    },
    {
     "name": "stderr",
     "output_type": "stream",
     "text": [
      "C:\\Users\\HP\\anaconda3\\lib\\site-packages\\seaborn\\_decorators.py:36: FutureWarning: Pass the following variable as a keyword arg: x. From version 0.12, the only valid positional argument will be `data`, and passing other arguments without an explicit keyword will result in an error or misinterpretation.\n",
      "  warnings.warn(\n"
     ]
    },
    {
     "data": {
      "image/png": "[encoded data removed]",
      "text/plain": [
       "<Figure size 1080x504 with 1 Axes>"
      ]
     },
     "metadata": {
      "needs_background": "light"
     },
     "output_type": "display_data"
    }
   ],
   "source": [
    "print('Distribution of fraud and non-fraud in sample dataset:')\n",
    "print(req_df['isFraud'].value_counts()/len(req_df))\n",
    "\n",
    "sns.countplot('isFraud', data=req_df)\n",
    "plt.title('Equally Distributed Data sample', fontsize=13)\n",
    "plt.show()"
   ]
  },
  {
   "cell_type": "code",
   "execution_count": 35,
   "id": "e3aaab87",
   "metadata": {},
   "outputs": [],
   "source": [
    "X = req_df.drop('isFraud',axis=1)\n",
    "y = req_df['isFraud']\n",
    "X_train, X_test, y_train, y_test = train_test_split(X, y, test_size=0.2, random_state=42)\n"
   ]
  },
  {
   "cell_type": "code",
   "execution_count": 36,
   "id": "e1dd3830",
   "metadata": {},
   "outputs": [],
   "source": [
    "# Turn the values into an array for feeding the classification algorithms.\n",
    "X_train = X_train.values\n",
    "X_test = X_test.values\n",
    "y_train = y_train.values\n",
    "y_test = y_test.values"
   ]
  },
  {
   "cell_type": "markdown",
   "id": "3323c256",
   "metadata": {},
   "source": [
    "### Model Training "
   ]
  },
  {
   "cell_type": "code",
   "execution_count": 37,
   "id": "6fbe4ee5",
   "metadata": {},
   "outputs": [],
   "source": [
    "#importing Classifier Libraries - Since our problem is a classification problem\n",
    "from sklearn.linear_model import LogisticRegression\n",
    "from sklearn.svm import SVC\n",
    "from sklearn.neighbors import KNeighborsClassifier\n",
    "from sklearn.tree import DecisionTreeClassifier\n",
    "from sklearn.ensemble import RandomForestClassifier\n",
    "import collections\n",
    "\n",
    "# Let's implement simple classifiers\n",
    "\n",
    "classifiers = {\n",
    "    \"LogisiticRegression\": LogisticRegression(),\n",
    "    \"KNearest\": KNeighborsClassifier(),\n",
    "    \"Support Vector Classifier\": SVC(),\n",
    "    \"DecisionTreeClassifier\": DecisionTreeClassifier(),\n",
    "    \"RandomForestClassifier\": RandomForestClassifier()\n",
    "}"
   ]
  },
  {
   "cell_type": "code",
   "execution_count": 42,
   "id": "cea4146d",
   "metadata": {
    "scrolled": true
   },
   "outputs": [
    {
     "name": "stdout",
     "output_type": "stream",
     "text": [
      "Classifiers:  LogisticRegression Has a training score of 89.726 % accuracy score\n",
      "Classifiers:  KNeighborsClassifier Has a training score of 89.749 % accuracy score\n",
      "Classifiers:  SVC Has a training score of 84.764 % accuracy score\n",
      "Classifiers:  DecisionTreeClassifier Has a training score of 98.607 % accuracy score\n",
      "Classifiers:  RandomForestClassifier Has a training score of 98.836 % accuracy score\n"
     ]
    }
   ],
   "source": [
    "from sklearn.model_selection import cross_val_score\n",
    "\n",
    "\n",
    "for key, classifier in classifiers.items():\n",
    "    classifier.fit(X_train, y_train)\n",
    "    training_score = cross_val_score(classifier, X_train, y_train, cv=5)\n",
    "    print(\"Classifiers: \", classifier.__class__.__name__, \"Has a training score of\", round(training_score.mean(), 5) * 100, \"% accuracy score\")"
   ]
  },
  {
   "cell_type": "markdown",
   "id": "4bdb29b2",
   "metadata": {},
   "source": [
    "- Hence we consider Decision Tree and Random Forest for further purposes."
   ]
  },
  {
   "cell_type": "code",
   "execution_count": 39,
   "id": "2c1183af",
   "metadata": {},
   "outputs": [
    {
     "name": "stdout",
     "output_type": "stream",
     "text": [
      "Confusion Matrix - Decision Tree\n",
      "[[1605   17]\n",
      " [  23 1641]]\n",
      "**********************************************************************\n",
      "Confusion Matrix - Random Forest\n",
      "[[1600   22]\n",
      " [   8 1656]]\n"
     ]
    }
   ],
   "source": [
    "# DECISION TREE\n",
    "\n",
    "decision_tree = DecisionTreeClassifier()\n",
    "decision_tree.fit(X_train, y_train)\n",
    "\n",
    "y_pred_dt = decision_tree.predict(X_test)\n",
    "decision_tree_score = decision_tree.score(X_test, y_test) * 100\n",
    "\n",
    "# RANDOM FOREST\n",
    "\n",
    "random_forest = RandomForestClassifier()\n",
    "random_forest.fit(X_train, y_train)\n",
    "\n",
    "y_pred_rf = random_forest.predict(X_test)\n",
    "random_forest_score = random_forest.score(X_test, y_test) * 100\n",
    "\n",
    "\n",
    "\n",
    "# Confusion Matrix - DT\n",
    "\n",
    "from sklearn.metrics import classification_report, confusion_matrix, ConfusionMatrixDisplay\n",
    "\n",
    "confusion_matrix_dt = confusion_matrix(y_test, y_pred_dt.round())\n",
    "print(\"Confusion Matrix - Decision Tree\")\n",
    "print(confusion_matrix_dt,)\n",
    "\n",
    "print(\"**********************************************************************\")\n",
    "\n",
    "# confusion matrix - RF\n",
    "\n",
    "confusion_matrix_rf = confusion_matrix(y_test, y_pred_rf.round())\n",
    "print(\"Confusion Matrix - Random Forest\")\n",
    "print(confusion_matrix_rf)"
   ]
  },
  {
   "cell_type": "code",
   "execution_count": 40,
   "id": "30b52bdd",
   "metadata": {},
   "outputs": [
    {
     "data": {
      "image/png": "[encoded data removed]",
      "text/plain": [
       "<Figure size 1080x504 with 2 Axes>"
      ]
     },
     "metadata": {
      "needs_background": "light"
     },
     "output_type": "display_data"
    },
    {
     "data": {
      "image/png": "[encoded data removed]",
      "text/plain": [
       "<Figure size 1080x504 with 2 Axes>"
      ]
     },
     "metadata": {
      "needs_background": "light"
     },
     "output_type": "display_data"
    }
   ],
   "source": [
    "#visualizing the above matrix\n",
    "display = ConfusionMatrixDisplay(confusion_matrix=confusion_matrix_dt)\n",
    "display.plot()\n",
    "plt.title('Confusion Matrix - DT')\n",
    "plt.show()\n",
    "\n",
    "\n",
    "display = ConfusionMatrixDisplay(confusion_matrix=confusion_matrix_rf)\n",
    "display.plot()\n",
    "plt.title('Confusion Matrix - RF')\n",
    "plt.show()"
   ]
  },
  {
   "cell_type": "code",
   "execution_count": 43,
   "id": "3113adbb",
   "metadata": {},
   "outputs": [
    {
     "data": {
      "image/png": "[encoded data removed]",
      "text/plain": [
       "<Figure size 1080x504 with 1 Axes>"
      ]
     },
     "metadata": {
      "needs_background": "light"
     },
     "output_type": "display_data"
    },
    {
     "data": {
      "image/png": "[encoded data removed]",
      "text/plain": [
       "<Figure size 1080x504 with 1 Axes>"
      ]
     },
     "metadata": {
      "needs_background": "light"
     },
     "output_type": "display_data"
    }
   ],
   "source": [
    "from sklearn import metrics\n",
    "\n",
    "#AUC\n",
    "# ROC for DT\n",
    "\n",
    "fpr, tpr, threshold = metrics.roc_curve(y_test, y_pred_dt)\n",
    "roc_auc = metrics.auc(fpr, tpr)\n",
    "\n",
    "plt.title('ROC - DT')\n",
    "plt.plot(fpr, tpr, 'b', label = 'AUC = %0.2f' % roc_auc)\n",
    "plt.legend(loc = 'lower right')\n",
    "plt.plot([0, 1], [0, 1],'r--')\n",
    "plt.xlim([0, 1])\n",
    "plt.ylim([0, 1])\n",
    "plt.ylabel('True Positive Rate')\n",
    "plt.xlabel('False Positive Rate')\n",
    "plt.show()\n",
    "\n",
    "# ROC for RF\n",
    "\n",
    "fpr, tpr, threshold = metrics.roc_curve(y_test, y_pred_rf)\n",
    "roc_auc = metrics.auc(fpr, tpr)\n",
    "\n",
    "plt.title('ROC - RF')\n",
    "plt.plot(fpr, tpr, 'b', label = 'AUC = %0.4f' % roc_auc)\n",
    "plt.legend(loc = 'lower right')\n",
    "plt.plot([0, 1], [0, 1],'r--')\n",
    "plt.xlim([0, 1])\n",
    "plt.ylim([0, 1])\n",
    "plt.ylabel('True Positive Rate')\n",
    "plt.xlabel('False Positive Rate')\n",
    "plt.show()"
   ]
  },
  {
   "cell_type": "markdown",
   "id": "b56c17a0",
   "metadata": {},
   "source": [
    "- AUC for RandomForest is slightly higher as compared to Decision Tree, but we can consider any one of the two to do our job."
   ]
  },
  {
   "cell_type": "markdown",
   "id": "9fbe1b0f",
   "metadata": {},
   "source": [
    "# SUMMARY:\n"
   ]
  },
  {
   "cell_type": "markdown",
   "id": "2f5630d8",
   "metadata": {},
   "source": [
    "- Here in this case we have a highly imbalanced dataset(99.87% -> fraud & 0.13% -> non-fraud). So, we first need to deal with it, therefore we have used Random Under Sampling to get (50/50) ratio of fraud and non-fraud transactions.\n",
    "- We are supposed to classify a transaction as fraud or non-fraud. Hence I tried to use the best classification algorithm by checking which one is more accurate.\n",
    "- It is also needed to get a good precision and recall value on our dataset.It was also one of the factor while choosing the ML model.\n",
    "- **Key Questions:**\n",
    "    - What are the key factors that predict fraudulent customer?\n",
    "        - Transaction history of destination.\n",
    "        - In most of the cases final balance at origin is zero.\n",
    "        - Legitimity of source of transaction request.\n",
    "   \n",
    "    - What kind of prevention should be adopted while company update its infrastructure?\n",
    "        - Use vertified apps and transaction route/source only.\n",
    "        - By using double layer of security in terms of forwarding a transaction or may be by using biotech such as retina data or fingerprint data for validating a transaction.\n",
    "        - We can also use an encrypted way of transaction.\n",
    "        - By keeping our data secured and security updated.\n",
    "        - Don't respond to unknown sources of calls/SMS/E-mails.\n",
    "        - If you feel like you have been tricked or security compromised, contact your bank immidiately.\n",
    "        \n",
    "    - Assuming these actions have been implemented, how would you determine if they work?\n",
    "        - By looking at Bank E-statements of transactions.\n",
    "        - Keeping a log of your payments.-> For both company as well as customers.\n"
   ]
  },
  {
   "cell_type": "code",
   "execution_count": null,
   "id": "14c33a9d",
   "metadata": {},
   "outputs": [],
   "source": []
  }
 ],
 "metadata": {
  "kernelspec": {
   "display_name": "Python 3 (ipykernel)",
   "language": "python",
   "name": "python3"
  },
  "language_info": {
   "codemirror_mode": {
    "name": "ipython",
    "version": 3
   },
   "file_extension": ".py",
   "mimetype": "text/x-python",
   "name": "python",
   "nbconvert_exporter": "python",
   "pygments_lexer": "ipython3",
   "version": "3.9.12"
  }
 },
 "nbformat": 4,
 "nbformat_minor": 5
}
